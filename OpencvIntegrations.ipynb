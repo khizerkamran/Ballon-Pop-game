{
 "cells": [
  {
   "cell_type": "code",
   "execution_count": null,
   "id": "424eae3d",
   "metadata": {},
   "outputs": [],
   "source": [
    "# Import\n",
    "import pygame\n",
    "import cv2\n",
    "import numpy as np\n",
    "\n",
    "# Initialize\n",
    "pygame.init()\n",
    "\n",
    "# Create Window/Display\n",
    "width, height = 1280, 720\n",
    "window = pygame.display.set_mode((width, height))\n",
    "pygame.display.set_caption(\"My Awesome Game\")\n",
    "\n",
    "# Initialize Clock for FPS\n",
    "fps = 30\n",
    "clock = pygame.time.Clock()\n",
    "\n",
    "# Webcam\n",
    "cap = cv2.VideoCapture(2)\n",
    "cap.set(3, 1280)  # width\n",
    "cap.set(4, 720)  # height\n",
    "\n",
    "# Main loop\n",
    "start = True\n",
    "while start:\n",
    "    # Get Events\n",
    "    for event in pygame.event.get():\n",
    "        if event.type == pygame.QUIT:\n",
    "            start = False\n",
    "            pygame.quit()\n",
    "\n",
    "    # Apply Logic\n",
    "\n",
    "    # OpenCV\n",
    "    success, img = cap.read()\n",
    "    imgRGB = cv2.cvtColor(img, cv2.COLOR_BGR2RGB)\n",
    "    imgRGB = np.rot90(imgRGB)\n",
    "    frame = pygame.surfarray.make_surface(imgRGB).convert()\n",
    "    frame = pygame.transform.flip(frame, True, False)\n",
    "    window.blit(frame, (0, 0))\n",
    "\n",
    "    # Update Display\n",
    "    pygame.display.update()\n",
    "    # Set FPS\n",
    "    clock.tick(fps)"
   ]
  }
 ],
 "metadata": {
  "kernelspec": {
   "display_name": "Python 3",
   "language": "python",
   "name": "python3"
  },
  "language_info": {
   "codemirror_mode": {
    "name": "ipython",
    "version": 3
   },
   "file_extension": ".py",
   "mimetype": "text/x-python",
   "name": "python",
   "nbconvert_exporter": "python",
   "pygments_lexer": "ipython3",
   "version": "3.8.7"
  }
 },
 "nbformat": 4,
 "nbformat_minor": 5
}
