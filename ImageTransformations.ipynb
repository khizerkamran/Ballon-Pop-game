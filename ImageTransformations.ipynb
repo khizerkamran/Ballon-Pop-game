{
 "cells": [
  {
   "cell_type": "code",
   "execution_count": null,
   "id": "3092822a",
   "metadata": {},
   "outputs": [],
   "source": [
    "# Import\n",
    "import pygame\n",
    "\n",
    "# Initialize\n",
    "pygame.init()\n",
    "\n",
    "# Create Window/Display\n",
    "width, height = 1280, 720\n",
    "window = pygame.display.set_mode((width, height))\n",
    "pygame.display.set_caption(\"My Awesome Game\")\n",
    "\n",
    "# Initialize Clock for FPS\n",
    "fps = 30\n",
    "clock = pygame.time.Clock()\n",
    "\n",
    "# Load Images\n",
    "imgBackground = pygame.image.load(\"../Resources/BackgroundBlue.jpg\").convert()\n",
    "imgBalloonRed = pygame.image.load(\"../Resources/BalloonRed.png\").convert_alpha()\n",
    "# imgBalloonRed = pygame.transform.rotate(imgBalloonRed, 90)\n",
    "imgBalloonRed = pygame.transform.rotozoom(imgBalloonRed, 90, 0.3)\n",
    "# imgBalloonRed = pygame.transform.flip(imgBalloonRed, False, True)\n",
    "\n",
    "# Main loop\n",
    "start = True\n",
    "while start:\n",
    "    # Get Events\n",
    "    for event in pygame.event.get():\n",
    "        if event.type == pygame.QUIT:\n",
    "            start = False\n",
    "            pygame.quit()\n",
    "\n",
    "    # Apply Logic\n",
    "\n",
    "    # imgBalloonRed = pygame.transform.scale(imgBalloonRed, (50, 100))\n",
    "    # imgBalloonRed = pygame.transform.smoothscale(imgBalloonRed, (50, 100))\n",
    "\n",
    "    window.blit(imgBackground, (0, 0))\n",
    "    window.blit(imgBalloonRed, (200, 300))\n",
    "\n",
    "    # Update Display\n",
    "    pygame.display.update()\n",
    "    # Set FPS\n",
    "    clock.tick(fps)"
   ]
  }
 ],
 "metadata": {
  "kernelspec": {
   "display_name": "Python 3",
   "language": "python",
   "name": "python3"
  },
  "language_info": {
   "codemirror_mode": {
    "name": "ipython",
    "version": 3
   },
   "file_extension": ".py",
   "mimetype": "text/x-python",
   "name": "python",
   "nbconvert_exporter": "python",
   "pygments_lexer": "ipython3",
   "version": "3.8.7"
  }
 },
 "nbformat": 4,
 "nbformat_minor": 5
}
