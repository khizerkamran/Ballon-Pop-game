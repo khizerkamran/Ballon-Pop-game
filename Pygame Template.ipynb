{
 "cells": [
  {
   "cell_type": "code",
   "execution_count": 2,
   "id": "84668fd9",
   "metadata": {},
   "outputs": [
    {
     "ename": "error",
     "evalue": "display Surface quit",
     "output_type": "error",
     "traceback": [
      "\u001b[1;31m---------------------------------------------------------------------------\u001b[0m",
      "\u001b[1;31merror\u001b[0m                                     Traceback (most recent call last)",
      "\u001b[1;32m<ipython-input-2-b1a3a2958548>\u001b[0m in \u001b[0;36m<module>\u001b[1;34m\u001b[0m\n\u001b[0;32m     42\u001b[0m \u001b[1;33m\u001b[0m\u001b[0m\n\u001b[0;32m     43\u001b[0m     \u001b[1;31m# Apply Logic\u001b[0m\u001b[1;33m\u001b[0m\u001b[1;33m\u001b[0m\u001b[1;33m\u001b[0m\u001b[0m\n\u001b[1;32m---> 44\u001b[1;33m     \u001b[0mwindow\u001b[0m\u001b[1;33m.\u001b[0m\u001b[0mfill\u001b[0m\u001b[1;33m(\u001b[0m\u001b[1;33m(\u001b[0m\u001b[1;36m255\u001b[0m\u001b[1;33m,\u001b[0m \u001b[1;36m255\u001b[0m\u001b[1;33m,\u001b[0m \u001b[1;36m255\u001b[0m\u001b[1;33m)\u001b[0m\u001b[1;33m)\u001b[0m\u001b[1;33m\u001b[0m\u001b[1;33m\u001b[0m\u001b[0m\n\u001b[0m\u001b[0;32m     45\u001b[0m \u001b[1;33m\u001b[0m\u001b[0m\n\u001b[0;32m     46\u001b[0m     \u001b[1;31m# Update Display\u001b[0m\u001b[1;33m\u001b[0m\u001b[1;33m\u001b[0m\u001b[1;33m\u001b[0m\u001b[0m\n",
      "\u001b[1;31merror\u001b[0m: display Surface quit"
     ]
    }
   ],
   "source": [
    "\"\"\"\n",
    "Pygame Template\n",
    "\n",
    "    Import\n",
    "    Initialize\n",
    "    Create Window\n",
    "    Initialize Clock for FPS\n",
    "\n",
    "    Loop\n",
    "        Get events\n",
    "            if quit\n",
    "                quit pygame\n",
    "        Apply Logic\n",
    "        Update Display/Window\n",
    "        Set FPS\n",
    "\n",
    "\"\"\"\n",
    "\n",
    "# Import\n",
    "import pygame\n",
    "\n",
    "# Initialize\n",
    "pygame.init()\n",
    "\n",
    "# Create Window/Display\n",
    "width, height = 1280, 720\n",
    "window = pygame.display.set_mode((width, height))\n",
    "pygame.display.set_caption(\"My Awesome Game\")\n",
    "\n",
    "# Initialize Clock for FPS\n",
    "fps = 30\n",
    "clock = pygame.time.Clock()\n",
    "\n",
    "# Main loop\n",
    "start = True\n",
    "while start:\n",
    "    # Get Events\n",
    "    for event in pygame.event.get():\n",
    "        if event.type == pygame.QUIT:\n",
    "            start = False\n",
    "            pygame.quit()\n",
    "\n",
    "    # Apply Logic\n",
    "    window.fill((255, 255, 255))\n",
    "\n",
    "    # Update Display\n",
    "    pygame.display.update()\n",
    "    # Set FPS\n",
    "    clock.tick(fps)"
   ]
  },
  {
   "cell_type": "code",
   "execution_count": null,
   "id": "13e84231",
   "metadata": {},
   "outputs": [],
   "source": []
  }
 ],
 "metadata": {
  "kernelspec": {
   "display_name": "Python 3",
   "language": "python",
   "name": "python3"
  },
  "language_info": {
   "codemirror_mode": {
    "name": "ipython",
    "version": 3
   },
   "file_extension": ".py",
   "mimetype": "text/x-python",
   "name": "python",
   "nbconvert_exporter": "python",
   "pygments_lexer": "ipython3",
   "version": "3.8.7"
  }
 },
 "nbformat": 4,
 "nbformat_minor": 5
}
