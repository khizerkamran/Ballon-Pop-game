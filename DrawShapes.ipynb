{
 "cells": [
  {
   "cell_type": "code",
   "execution_count": null,
   "id": "f579f418",
   "metadata": {},
   "outputs": [],
   "source": [
    "# Import\n",
    "import pygame\n",
    "\n",
    "# Initialize\n",
    "pygame.init()\n",
    "\n",
    "# Create Window/Display\n",
    "width, height = 1280, 720\n",
    "window = pygame.display.set_mode((width, height))\n",
    "pygame.display.set_caption(\"My Awesome Game\")\n",
    "\n",
    "# Initialize Clock for FPS\n",
    "fps = 30\n",
    "clock = pygame.time.Clock()\n",
    "\n",
    "# Main loop\n",
    "start = True\n",
    "while start:\n",
    "    # Get Events\n",
    "    for event in pygame.event.get():\n",
    "        if event.type == pygame.QUIT:\n",
    "            start = False\n",
    "            pygame.quit()\n",
    "\n",
    "    # Apply Logic\n",
    "    window.fill((255, 255, 255))\n",
    "    red, green, blue = (255, 0, 0), (0, 255, 0), (0, 0, 255)\n",
    "\n",
    "    pygame.draw.polygon(window, red, ((491, 100), (788, 100), (937, 357),\n",
    "                                      (788, 614), (491, 614), (342, 357)))\n",
    "    pygame.draw.circle(window, green, (640, 360), 200)\n",
    "    pygame.draw.line(window, blue, (468, 392), (812, 392), 10)\n",
    "    pygame.draw.rect(window, blue, (468, 307, 345, 70),border_radius=5)\n",
    "\n",
    "\n",
    "    # Update Display\n",
    "    pygame.display.update()\n",
    "    # Set FPS\n",
    "    clock.tick(fps)"
   ]
  }
 ],
 "metadata": {
  "kernelspec": {
   "display_name": "Python 3",
   "language": "python",
   "name": "python3"
  },
  "language_info": {
   "codemirror_mode": {
    "name": "ipython",
    "version": 3
   },
   "file_extension": ".py",
   "mimetype": "text/x-python",
   "name": "python",
   "nbconvert_exporter": "python",
   "pygments_lexer": "ipython3",
   "version": "3.8.7"
  }
 },
 "nbformat": 4,
 "nbformat_minor": 5
}
